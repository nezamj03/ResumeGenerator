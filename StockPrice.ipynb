{
 "cells": [
  {
   "cell_type": "code",
   "execution_count": null,
   "id": "5d0d101e",
   "metadata": {},
   "outputs": [],
   "source": [
    "import pandas as pd\n",
    "import yfinance as yf\n",
    "from sklearn.metrics import mean_squared_error\n",
    "from sklearn.preprocessing import MinMaxScaler\n",
    "from sklearn.model_selection import train_test_split\n",
    "import numpy as np\n",
    "from keras.models import Sequential\n",
    "from keras.layers import LSTM, Dense"
   ]
  },
  {
   "cell_type": "code",
   "execution_count": null,
   "id": "1501ea55",
   "metadata": {},
   "outputs": [],
   "source": [
    "stocks = ['META', 'GOOGL', 'UBS']\n",
    "stocks_df = {\n",
    "    'META' : pd.DataFrame(),\n",
    "    'GOOGL' : pd.DataFrame(),\n",
    "    'UBS' : pd.DataFrame()\n",
    "}"
   ]
  },
  {
   "cell_type": "code",
   "execution_count": null,
   "id": "7e1b533c",
   "metadata": {},
   "outputs": [],
   "source": [
    "start_date = '2010-01-01'\n",
    "end_date = '2023-04-16'\n",
    "\n",
    "for ticker in stocks:\n",
    "    # Use yfinance library to get stock data\n",
    "    stock = yf.download(ticker, start=start_date, end=end_date)\n",
    "    # Add the stock data to the stock_data DataFrame\n",
    "    stocks_df[ticker] = stock"
   ]
  },
  {
   "cell_type": "code",
   "execution_count": null,
   "id": "0f872eae",
   "metadata": {},
   "outputs": [],
   "source": [
    "# Scales valies using MinMax scaling\n",
    "def scale_values(df):\n",
    "    scaler = MinMaxScaler()\n",
    "    cols = df.columns\n",
    "    df[cols] = scaler.fit_transform(df[cols])"
   ]
  },
  {
   "cell_type": "code",
   "execution_count": null,
   "id": "4fc2b738",
   "metadata": {},
   "outputs": [],
   "source": [
    "# Adds memory of previous with lag\n",
    "def create_lag(df):\n",
    "    for i in range(1, 4):\n",
    "        df['Close_Lag' + str(i)] = df['Close'].shift(i)"
   ]
  },
  {
   "cell_type": "code",
   "execution_count": null,
   "id": "4e7f7d9c",
   "metadata": {},
   "outputs": [],
   "source": [
    "# Adds a simple and exponential moving average\n",
    "def create_moving_avg(df, period):\n",
    "    df['SMA' + str(period)] = df['Close'].rolling(window=period).mean()\n",
    "    df['EMA' + str(period)] = df['Close'].ewm(span=period, adjust=False).mean()"
   ]
  },
  {
   "cell_type": "code",
   "execution_count": null,
   "id": "39b86bb6",
   "metadata": {},
   "outputs": [],
   "source": [
    "# Calculate relative strength index over 14 days\n",
    "def create_RSI(df):\n",
    "    delta = df['Close'].diff()\n",
    "    gain = delta.where(delta > 0, 0)\n",
    "    loss = -delta.where(delta < 0, 0)\n",
    "    avg_gain = gain.rolling(window=14).mean()\n",
    "    avg_loss = loss.rolling(window=14).mean()\n",
    "    rs = avg_gain / avg_loss\n",
    "    df['RSI_14'] = 100 - (100 / (1 + rs))"
   ]
  },
  {
   "cell_type": "code",
   "execution_count": null,
   "id": "2e5b016c",
   "metadata": {},
   "outputs": [],
   "source": [
    "# Drops adjusted close and open as features\n",
    "def select_features(df):\n",
    "    df.drop(['Open', 'Adj Close'], axis=1, inplace=True)"
   ]
  },
  {
   "cell_type": "code",
   "execution_count": null,
   "id": "4ac72937",
   "metadata": {},
   "outputs": [],
   "source": [
    "def clean_df(df):\n",
    "    scale_values(df)\n",
    "    create_lag(df)\n",
    "    create_moving_avg(df, 5)\n",
    "    create_RSI(df)\n",
    "    df.dropna(inplace=True)\n",
    "    select_features(df)"
   ]
  },
  {
   "cell_type": "code",
   "execution_count": null,
   "id": "dc2aba2a",
   "metadata": {},
   "outputs": [],
   "source": [
    "for df in stocks_df.values():\n",
    "    clean_df(df)"
   ]
  },
  {
   "cell_type": "code",
   "execution_count": null,
   "id": "9a543f5c",
   "metadata": {},
   "outputs": [],
   "source": [
    "data = {\n",
    "    'META': None,\n",
    "    'GOOGL': None,\n",
    "    'UBS': None\n",
    "}\n",
    "\n",
    "for key in data.keys():\n",
    "    \n",
    "    y = stocks_df[key]['Close']\n",
    "    X = stocks_df[key].drop('Close', axis=1)\n",
    "    \n",
    "    X_train_val, X_test, y_train_val, y_test = train_test_split(X, y, test_size=0.15, random_state=42)\n",
    "    X_train, X_val, y_train, y_val = train_test_split(X_train_val, y_train_val, test_size=0.15, random_state=42)\n",
    "    \n",
    "    data[key] = {\n",
    "        \"X_trn\" : X_train,\n",
    "        \"X_val\" : X_val,\n",
    "        \"X_tst\" : X_test,\n",
    "        \"y_trn\" : y_train,\n",
    "        \"y_val\" : y_val,\n",
    "        \"y_tst\" : y_test\n",
    "    }"
   ]
  },
  {
   "cell_type": "code",
   "execution_count": null,
   "id": "80dbeab2",
   "metadata": {},
   "outputs": [],
   "source": [
    "def create_sequences(X, y, time_steps=1):\n",
    "    \"\"\"\n",
    "    Creates input-output pairs using sliding window approach.\n",
    "\n",
    "    Parameters:\n",
    "        -- X: numpy array, input data\n",
    "        -- y: numpy array, target data\n",
    "        -- time_steps: int, size of the sliding window\n",
    "\n",
    "    Returns:\n",
    "        -- X_seq: numpy array, input sequences\n",
    "        -- y_seq: numpy array, output sequences\n",
    "    \"\"\"\n",
    "    X_seq, y_seq = [], []\n",
    "    for i in range(len(X) - time_steps):\n",
    "        X_seq.append(X[i:i + time_steps])\n",
    "        y_seq.append(y[i + time_steps])\n",
    "    return np.array(X_seq), np.array(y_seq)"
   ]
  },
  {
   "cell_type": "code",
   "execution_count": null,
   "id": "b8e76e24",
   "metadata": {},
   "outputs": [],
   "source": [
    "time_steps = 7\n",
    "\n",
    "for key, value in data.items():\n",
    "    \n",
    "    # Create sequences for training data\n",
    "    X_train_seq, y_train_seq = create_sequences(value['X_trn'], value['y_trn'], time_steps)\n",
    "    # Create sequences for validation data\n",
    "    X_val_seq, y_val_seq = create_sequences(value['X_val'], value['y_val'], time_steps)\n",
    "    # Create sequences for test data\n",
    "    X_test_seq, y_test_seq = create_sequences(value['X_tst'], value['y_tst'], time_steps)\n",
    "    \n",
    "    value['X_trn'] = X_train_seq\n",
    "    value['X_val'] = X_val_seq\n",
    "    value['X_tst'] = X_test_seq\n",
    "    value['y_trn'] = y_train_seq\n",
    "    value['y_val'] = y_val_seq\n",
    "    value['y_tst'] = y_test_seq"
   ]
  },
  {
   "cell_type": "code",
   "execution_count": null,
   "id": "793ccf16",
   "metadata": {},
   "outputs": [],
   "source": [
    "for key, value in data.items():\n",
    "    \n",
    "    num_features = 9\n",
    "    \n",
    "    # Convert input sequences to numpy arrays\n",
    "    value['X_trn'] = np.array(value['X_trn'])\n",
    "    value['X_val'] = np.array(value['X_val'])\n",
    "    value['X_tst'] = np.array(value['X_tst'])\n",
    "\n",
    "    # Convert output sequences to numpy arrays\n",
    "    value['y_trn'] = np.array(value['y_trn'])\n",
    "    value['y_val'] = np.array(value['y_val'])\n",
    "    value['y_tst'] = np.array(value['y_tst'])\n",
    "\n",
    "    # Reshape input sequences to 3D arrays (samples, time steps, features)\n",
    "    value['X_trn'] = np.reshape(value['X_trn'], (value['X_trn'].shape[0], value['X_trn'].shape[1], num_features))\n",
    "    value['X_val'] = np.reshape(value['X_val'], (value['X_val'].shape[0], value['X_val'].shape[1], num_features))\n",
    "    value['X_tst'] = np.reshape(value['X_tst'], (value['X_tst'].shape[0], value['X_tst'].shape[1], num_features))"
   ]
  },
  {
   "cell_type": "code",
   "execution_count": null,
   "id": "85b08c8e",
   "metadata": {},
   "outputs": [],
   "source": []
  },
  {
   "cell_type": "code",
   "execution_count": null,
   "id": "cd2bbbf1",
   "metadata": {},
   "outputs": [],
   "source": [
    "stocks_df['GOOGL']"
   ]
  }
 ],
 "metadata": {
  "kernelspec": {
   "display_name": "Python 3 (ipykernel)",
   "language": "python",
   "name": "python3"
  },
  "language_info": {
   "codemirror_mode": {
    "name": "ipython",
    "version": 3
   },
   "file_extension": ".py",
   "mimetype": "text/x-python",
   "name": "python",
   "nbconvert_exporter": "python",
   "pygments_lexer": "ipython3",
   "version": "3.9.16"
  }
 },
 "nbformat": 4,
 "nbformat_minor": 5
}
